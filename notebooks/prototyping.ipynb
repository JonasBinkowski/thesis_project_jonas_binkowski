{
 "cells": [
  {
   "cell_type": "code",
   "execution_count": 50,
   "metadata": {},
   "outputs": [],
   "source": [
    "import csv\n",
    "import os\n",
    "import json\n",
    "from pathlib import Path\n",
    "import numpy as np\n",
    "from datetime import datetime"
   ]
  },
  {
   "cell_type": "code",
   "execution_count": 22,
   "metadata": {},
   "outputs": [],
   "source": [
    "def check_data_availability(processed_data_dir: Path) -> bool:\n",
    "    nodes_path = processed_data_dir / \"nodes.csv\"\n",
    "    edges_path = processed_data_dir / \"edges.csv\"\n",
    "    return nodes_path.is_file() and edges_path.is_file()"
   ]
  },
  {
   "cell_type": "code",
   "execution_count": 23,
   "metadata": {},
   "outputs": [],
   "source": [
    "def write_to_csv(data: list, file_path: Path):\n",
    "    if data:\n",
    "        keys = set().union(*(d.keys() for d in data))\n",
    "        with open(file_path, 'w', newline='', encoding='utf-8') as csvfile:\n",
    "            writer = csv.DictWriter(csvfile, fieldnames=keys)\n",
    "            writer.writeheader()\n",
    "            for item in data:\n",
    "                writer.writerow(item)"
   ]
  },
  {
   "cell_type": "code",
   "execution_count": 24,
   "metadata": {},
   "outputs": [],
   "source": [
    "def resolve_data_directories(current_path: Path) -> (Path, Path):\n",
    "    raw_data_dir = Path(\"data/raw\")\n",
    "    processed_data_dir = Path(\"data/processed\")\n",
    "    for parent in current_path.parents:\n",
    "        if (parent / raw_data_dir).exists():\n",
    "            return parent / raw_data_dir, parent / processed_data_dir\n",
    "    return None, None\n"
   ]
  },
  {
   "cell_type": "code",
   "execution_count": 27,
   "metadata": {},
   "outputs": [],
   "source": [
    "def load_json_data(file_path: Path) -> dict:\n",
    "    with open(file_path, 'r') as file:\n",
    "        return json.load(file)"
   ]
  },
  {
   "cell_type": "code",
   "execution_count": 33,
   "metadata": {},
   "outputs": [],
   "source": [
    "\n",
    "# get current directory\n",
    "current_path = Path(os.getcwd())\n",
    "\n",
    "# get data directories\n",
    "raw_data_dir, processed_data_dir = resolve_data_directories(current_path=current_path)\n",
    "\n",
    "raw_path = raw_data_dir / \"mc2.json\"\n",
    "\n",
    "data = load_json_data(raw_path)\n",
    "\n",
    "# Extract nodes and edges\n",
    "nodes = data.get('nodes', [])\n",
    "edges = data.get('links', [])"
   ]
  },
  {
   "cell_type": "code",
   "execution_count": 46,
   "metadata": {},
   "outputs": [],
   "source": [
    "keys_edges = [\"arrivaldate\", \"hscode\", \"valueofgoods_omu\", \"valueofgoodsusd\", \"volumeteu\", \"weightkg\", \"dataset\", \"source\", \"target\"]\n",
    "keys_nodes = [\"shpcountry\", \"rcvcountry\", \"dataset\", \"id\"]"
   ]
  },
  {
   "cell_type": "code",
   "execution_count": 48,
   "metadata": {},
   "outputs": [],
   "source": [
    "def convert_list_to_numpy(dicts: list, keys: list):\n",
    "    \n",
    "    processed = []\n",
    "\n",
    "    for d in dicts:\n",
    "        row = [d.get(key, None) for key in keys]\n",
    "        processed.append(row)\n",
    "        \n",
    "    processed = np.array(processed, dtype=object)\n",
    "    \n",
    "    return processed"
   ]
  },
  {
   "cell_type": "code",
   "execution_count": 49,
   "metadata": {},
   "outputs": [
    {
     "data": {
      "text/plain": [
       "array([['2034-02-12', '630630', 141015.0, None, 0.0, 4780, 'MC2',\n",
       "        \"AquaDelight Inc and Son's\", 'BaringoAmerica Marine Ges.m.b.H.'],\n",
       "       ['2034-03-13', '630630', 141015.0, None, 0.0, 6125, 'MC2',\n",
       "        \"AquaDelight Inc and Son's\", 'BaringoAmerica Marine Ges.m.b.H.'],\n",
       "       ['2028-02-07', '470710', None, None, 0.0, 10855, 'MC2',\n",
       "        \"AquaDelight Inc and Son's\", '-15045'],\n",
       "       ['2028-02-23', '470710', None, None, 0.0, 11250, 'MC2',\n",
       "        \"AquaDelight Inc and Son's\", '-15045']], dtype=object)"
      ]
     },
     "execution_count": 49,
     "metadata": {},
     "output_type": "execute_result"
    }
   ],
   "source": [
    "edges_processed = convert_list_to_numpy(edges, keys_edges)\n",
    "edges_processed[:4,:]"
   ]
  },
  {
   "cell_type": "code",
   "execution_count": 52,
   "metadata": {},
   "outputs": [
    {
     "data": {
      "text/plain": [
       "array([['2028-01-01', '870899', None, None, 0.0, 3520, 'MC2',\n",
       "        'The Salted Pearl AG Marine conservation', 'Pao gan LC Freight '],\n",
       "       ['2028-01-01', '390799', None, 39920.0, 0.0, 8650, 'MC2',\n",
       "        'Barco de Plata Seafarer Corp Freight ', 'Pao gan SE Seal'],\n",
       "       ['2028-01-01', '392410', None, None, 5.0, 18820, 'MC2',\n",
       "        'Arunachal Pradesh s Kga', 'hǎi dǎn Corporation Wharf'],\n",
       "       ['2028-01-01', '392410', None, None, 0.0, 2340, 'MC2',\n",
       "        'Tamil Nadu s Pic Express', '-2220']], dtype=object)"
      ]
     },
     "execution_count": 52,
     "metadata": {},
     "output_type": "execute_result"
    }
   ],
   "source": [
    "date_column_index = 0\n",
    "dates = [datetime.strptime(date, \"%Y-%m-%d\") for date in edges_processed[:, date_column_index]]\n",
    "\n",
    "sorted_indices = np.argsort(dates)\n",
    "\n",
    "sorted_data = edges_processed[sorted_indices]\n",
    "\n",
    "sorted_data[:4, :]"
   ]
  },
  {
   "cell_type": "code",
   "execution_count": null,
   "metadata": {},
   "outputs": [],
   "source": [
    "def process_nodes_and_edges(nodes: list, edges: list) -> (list, list):\n",
    "    \n",
    "    return None, None"
   ]
  },
  {
   "cell_type": "code",
   "execution_count": 30,
   "metadata": {},
   "outputs": [
    {
     "name": "stdout",
     "output_type": "stream",
     "text": [
      "Data already preprocessed.\n"
     ]
    }
   ],
   "source": [
    "from pathlib import Path\n",
    "import os\n",
    "import json\n",
    "import csv\n",
    "\n",
    "def prepareData2(dataset: str):\n",
    "    \n",
    "    # get current directory\n",
    "    current_path = Path(os.getcwd())\n",
    "\n",
    "    # get data directories\n",
    "    raw_data_dir, processed_data_dir = resolve_data_directories(current_path=current_path)\n",
    "\n",
    "    # Check if data already preprocessed\n",
    "    nodes_path = processed_data_dir / \"nodes.csv\"\n",
    "    edges_path = processed_data_dir / \"edges.csv\"\n",
    "\n",
    "    if nodes_path.is_file() and edges_path.is_file():\n",
    "        print(\"Data already preprocessed.\")\n",
    "        return\n",
    "    else:\n",
    "        # Check if raw source data is available\n",
    "        raw_path = raw_data_dir / f\"{dataset}.json\"\n",
    "        if not raw_path.is_file():\n",
    "            print(f\"No raw data available at {raw_path}\")\n",
    "            # load dataset from github\n",
    "            return\n",
    "\n",
    "        data = load_json_data(raw_path)\n",
    "            \n",
    "        # Extract nodes and edges\n",
    "        nodes = data.get('nodes', [])\n",
    "        edges = data.get('links', [])\n",
    "\n",
    "        # Output-paths for nodelist and edgelist\n",
    "        node_list_path = processed_data_dir / \"nodes.csv\"\n",
    "        edge_list_path = processed_data_dir / \"edges.csv\"\n",
    "\n",
    "         # Write nodes to CSV file\n",
    "        if nodes:\n",
    "            write_to_csv(nodes, node_list_path)\n",
    "\n",
    "        # Write edges to CSV file\n",
    "        if edges:\n",
    "            write_to_csv(edges, edge_list_path)\n",
    "\n",
    "prepareData2(\"mc2\")"
   ]
  }
 ],
 "metadata": {
  "kernelspec": {
   "display_name": "benv",
   "language": "python",
   "name": "python3"
  },
  "language_info": {
   "codemirror_mode": {
    "name": "ipython",
    "version": 3
   },
   "file_extension": ".py",
   "mimetype": "text/x-python",
   "name": "python",
   "nbconvert_exporter": "python",
   "pygments_lexer": "ipython3",
   "version": "3.11.4"
  }
 },
 "nbformat": 4,
 "nbformat_minor": 2
}
